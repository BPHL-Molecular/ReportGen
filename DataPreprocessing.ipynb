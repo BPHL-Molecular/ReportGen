{
 "cells": [
  {
   "cell_type": "markdown",
   "metadata": {},
   "source": [
    "# Data preprocessing example codes"
   ]
  },
  {
   "cell_type": "markdown",
   "metadata": {},
   "source": [
    "### 1. Use Cogent3 to generate both Newick format phylogenetic tree file and pairwise distance matrix in TSV format"
   ]
  },
  {
   "cell_type": "code",
   "execution_count": null,
   "metadata": {},
   "outputs": [],
   "source": [
    "from cogent3 import load_unaligned_seqs\n",
    "from cogent3.align.progressive import tree_align\n",
    "import os\n",
    "\n",
    "consensus_fasta_file = \"merged.consensus.fa\"  # Replace with your file path\n",
    "tree_newick_file = \"samples.tn93.tree\"  # Replace with your file path\n",
    "dists_csv_file = \"samples.dist.csv\"  # Replace with your file path\n",
    "\n",
    "seqs = load_unaligned_seqs(consensus_fasta_file, moltype=\"dna\")\n",
    "aln, tree = tree_align(\"TN93\", seqs, show_progress=False)\n",
    "tree.write(tree_newick_file)\n",
    "\n",
    "dists = aln.distance_matrix(calc=\"tn93\", show_progress=False)\n",
    "dists_df = dists.to_table().to_dataframe()\n",
    "dists_df.to_csv(dists_csv_file)"
   ]
  },
  {
   "cell_type": "markdown",
   "metadata": {},
   "source": [
    "### 2. Convert the MASH distances to a pairwise distance matrix in TSV and also generate phylogenetic tree in Newick"
   ]
  },
  {
   "cell_type": "code",
   "execution_count": null,
   "metadata": {},
   "outputs": [],
   "source": [
    "import pandas as pd\n",
    "import os\n",
    "import numpy as np\n",
    "\n",
    "# MASH distance --> pairwise distance matrix in tsv\n",
    "distances = pd.read_csv(\"mash_distances.txt\", sep=\"\\t\")  # Replace with your file path\n",
    "distances.columns = [\"sample1\", \"sample2\", \"distance\", 'p-value', 'Matching Hashes / Total Sketch Size']\n",
    "# remove \".fasta\" from the sample names in first and second columns\n",
    "distances[\"sample1\"] = distances[\"sample1\"].str.replace(\".fasta\", \"\")\n",
    "distances[\"sample2\"] = distances[\"sample2\"].str.replace(\".fasta\", \"\")\n",
    "df = distances.pivot(index=\"sample1\", columns=\"sample2\", values=\"distance\")\n",
    "df.to_csv(\"mash_distances.tsv\", sep=\"\\t\")\n",
    "\n",
    "# pairwise distance matrix in tsv --> phylogenetic tree in Newick\n",
    "from Bio import Phylo\n",
    "from Bio.Phylo.TreeConstruction import DistanceTreeConstructor, DistanceMatrix\n",
    "import pandas as pd\n",
    "\n",
    "# Load the pairwise distance matrix from a TSV file\n",
    "def load_distance_matrix(file_path):\n",
    "    df = pd.read_csv(file_path, sep='\\t', index_col=0)\n",
    "    names = list(df.columns)\n",
    "    lower_triangle_matrix = [[0]] + [list(df.iloc[i, :i+1]) for i in range(1, len(names))]\n",
    "    return DistanceMatrix(names, lower_triangle_matrix)\n",
    "\n",
    "# Construct a phylogenetic tree using the UPGMA algorithm\n",
    "def construct_tree(distance_matrix):\n",
    "    constructor = DistanceTreeConstructor()\n",
    "    tree = constructor.upgma(distance_matrix)\n",
    "    return tree\n",
    "\n",
    "# Write the tree to a Newick file\n",
    "def write_tree_to_newick(tree, output_file):\n",
    "    Phylo.write(tree, output_file, 'newick')\n",
    "\n",
    "input_file = 'mash_distances.tsv'  # Replace with your file path\n",
    "output_file = 'mash_tree.newick'   # Replace with your file path\n",
    "\n",
    "distance_matrix = load_distance_matrix(input_file)\n",
    "tree = construct_tree(distance_matrix)\n",
    "write_tree_to_newick(tree, output_file)"
   ]
  },
  {
   "cell_type": "markdown",
   "metadata": {},
   "source": [
    "### 3. "
   ]
  }
 ],
 "metadata": {
  "kernelspec": {
   "display_name": "Python 3",
   "language": "python",
   "name": "python3"
  },
  "language_info": {
   "name": "python",
   "version": "3.10.12"
  }
 },
 "nbformat": 4,
 "nbformat_minor": 2
}
